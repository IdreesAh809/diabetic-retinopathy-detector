{
 "cells": [
  {
   "cell_type": "code",
   "execution_count": 1,
   "metadata": {},
   "outputs": [],
   "source": [
    "import pandas as pd\n",
    "\n",
    "# Load the CSV file\n",
    "df = pd.read_csv('trainLabels_cropped.csv')\n",
    "\n",
    "# Remove the 's' and 'p' columns\n",
    "df = df.drop(columns=['s', 'p'])\n",
    "\n",
    "# Save the modified DataFrame back to the CSV file\n",
    "df.to_csv('trainLabels_cropped.csv', index=False)\n"
   ]
  },
  {
   "cell_type": "code",
   "execution_count": 2,
   "metadata": {},
   "outputs": [
    {
     "name": "stdout",
     "output_type": "stream",
     "text": [
      "No missing images found.\n"
     ]
    }
   ],
   "source": [
    "import os\n",
    "\n",
    "# Get the list of image files in the resized_train_cropped folder\n",
    "image_files = os.listdir('resized_train_cropped')\n",
    "\n",
    "# Extract the image names without extensions\n",
    "image_names = [os.path.splitext(image)[0] for image in image_files]\n",
    "\n",
    "# Get the list of image names from the CSV file\n",
    "csv_image_names = df['image'].tolist()\n",
    "\n",
    "# Find missing images\n",
    "missing_images = [image for image in csv_image_names if image not in image_names]\n",
    "\n",
    "# Print the missing images\n",
    "if missing_images:\n",
    "    print(\"Missing images:\", missing_images)\n",
    "else:\n",
    "    print(\"No missing images found.\")\n"
   ]
  },
  {
   "cell_type": "code",
   "execution_count": null,
   "metadata": {},
   "outputs": [],
   "source": []
  }
 ],
 "metadata": {
  "kernelspec": {
   "display_name": "Python 3",
   "language": "python",
   "name": "python3"
  },
  "language_info": {
   "codemirror_mode": {
    "name": "ipython",
    "version": 3
   },
   "file_extension": ".py",
   "mimetype": "text/x-python",
   "name": "python",
   "nbconvert_exporter": "python",
   "pygments_lexer": "ipython3",
   "version": "3.12.3"
  }
 },
 "nbformat": 4,
 "nbformat_minor": 2
}
