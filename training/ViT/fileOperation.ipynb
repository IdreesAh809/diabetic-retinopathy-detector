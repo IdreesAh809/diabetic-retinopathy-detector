{
 "cells": [
  {
   "cell_type": "code",
   "execution_count": 2,
   "metadata": {},
   "outputs": [],
   "source": [
    "import shutil\n",
    "\n",
    "# Copy images from train folder to test folder according to test.csv file\n",
    "import pandas as pd\n",
    "\n",
    "test_data = pd.read_csv('test.csv')\n",
    "\n",
    "for index, row in test_data.iterrows():\n",
    "    image_name_left = row['image'] + '.png'\n",
    "    # image_name_right = row['image'] + '.png'\n",
    "    \n",
    "    shutil.copy(f'train/{image_name_left}', f'test/{image_name_left}')\n",
    "    #shutil.copy(f'train/{image_name_right}', f'test/{image_name_right}')\n"
   ]
  },
  {
   "cell_type": "code",
   "execution_count": null,
   "metadata": {},
   "outputs": [],
   "source": []
  }
 ],
 "metadata": {
  "kernelspec": {
   "display_name": "Python 3",
   "language": "python",
   "name": "python3"
  },
  "language_info": {
   "codemirror_mode": {
    "name": "ipython",
    "version": 3
   },
   "file_extension": ".py",
   "mimetype": "text/x-python",
   "name": "python",
   "nbconvert_exporter": "python",
   "pygments_lexer": "ipython3",
   "version": "3.10.8"
  }
 },
 "nbformat": 4,
 "nbformat_minor": 2
}
