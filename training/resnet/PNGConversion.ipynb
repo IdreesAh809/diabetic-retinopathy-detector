{
 "cells": [
  {
   "cell_type": "code",
   "execution_count": 1,
   "metadata": {},
   "outputs": [],
   "source": [
    "import os\n",
    "from PIL import Image\n",
    "\n",
    "# Create a folder called PNGMild\n",
    "#os.makedirs('PNGMild', exist_ok=True)\n",
    "\n",
    "# List all files in the Mild folder\n",
    "mild_images = os.listdir('resized_train')\n",
    "\n",
    "# Convert images to PNG format and copy to PNGMild folder\n",
    "for image_name in mild_images:\n",
    "    if image_name.endswith('.jpeg'):\n",
    "        image_path = os.path.join('resized_train', image_name)\n",
    "        img = Image.open(image_path)\n",
    "        png_image_name = image_name.replace('.jpeg', '.png')\n",
    "        png_image_path = os.path.join('train', png_image_name)\n",
    "        img.save(png_image_path, 'PNG')\n"
   ]
  },
  {
   "cell_type": "code",
   "execution_count": 3,
   "metadata": {},
   "outputs": [],
   "source": [
    "import os\n",
    "from PIL import Image\n",
    "\n",
    "# Create a folder called PNGMild\n",
    "#os.makedirs('PNGMild', exist_ok=True)\n",
    "\n",
    "# List all files in the Mild folder\n",
    "mild_images = os.listdir('No_DRJpeg')\n",
    "\n",
    "# Convert images to PNG format and copy to PNGMild folder\n",
    "for image_name in mild_images:\n",
    "    if image_name.endswith('.jpeg'):\n",
    "        image_path = os.path.join('No_DRJpeg', image_name)\n",
    "        img = Image.open(image_path)\n",
    "        png_image_name = image_name.replace('.jpeg', '.png')\n",
    "        png_image_path = os.path.join('No_DR', png_image_name)\n",
    "        img.save(png_image_path, 'PNG')\n"
   ]
  },
  {
   "cell_type": "code",
   "execution_count": 4,
   "metadata": {},
   "outputs": [],
   "source": [
    "import os\n",
    "from PIL import Image\n",
    "\n",
    "# Create a folder called PNGMild\n",
    "#os.makedirs('PNGMild', exist_ok=True)\n",
    "\n",
    "# List all files in the Mild folder\n",
    "mild_images = os.listdir('SevereJpeg')\n",
    "\n",
    "# Convert images to PNG format and copy to PNGMild folder\n",
    "for image_name in mild_images:\n",
    "    if image_name.endswith('.jpeg'):\n",
    "        image_path = os.path.join('SevereJpeg', image_name)\n",
    "        img = Image.open(image_path)\n",
    "        png_image_name = image_name.replace('.jpeg', '.png')\n",
    "        png_image_path = os.path.join('Severe', png_image_name)\n",
    "        img.save(png_image_path, 'PNG')\n"
   ]
  },
  {
   "cell_type": "code",
   "execution_count": 8,
   "metadata": {},
   "outputs": [],
   "source": [
    "import os\n",
    "from PIL import Image\n",
    "\n",
    "# Create a folder called PNGMild\n",
    "#os.makedirs('PNGMild', exist_ok=True)\n",
    "\n",
    "# List all files in the Mild folder\n",
    "mild_images = os.listdir('Proliferative_DRJpeg')\n",
    "\n",
    "# Convert images to PNG format and copy to PNGMild folder\n",
    "for image_name in mild_images:\n",
    "    if image_name.endswith('.jpeg'):\n",
    "        image_path = os.path.join('Proliferative_DRJpeg', image_name)\n",
    "        img = Image.open(image_path)\n",
    "        png_image_name = image_name.replace('.jpeg', '.png')\n",
    "        png_image_path = os.path.join('Proliferative_DR', png_image_name)\n",
    "        img.save(png_image_path, 'PNG')\n"
   ]
  },
  {
   "cell_type": "code",
   "execution_count": null,
   "metadata": {},
   "outputs": [],
   "source": []
  }
 ],
 "metadata": {
  "kernelspec": {
   "display_name": "Python 3",
   "language": "python",
   "name": "python3"
  },
  "language_info": {
   "codemirror_mode": {
    "name": "ipython",
    "version": 3
   },
   "file_extension": ".py",
   "mimetype": "text/x-python",
   "name": "python",
   "nbconvert_exporter": "python",
   "pygments_lexer": "ipython3",
   "version": "3.10.8"
  }
 },
 "nbformat": 4,
 "nbformat_minor": 2
}
